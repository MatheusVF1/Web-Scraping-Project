{
  "cells": [
    {
      "attachments": {},
      "cell_type": "markdown",
      "metadata": {
        "id": "mDpY_eGOnFeb"
      },
      "source": [
        "# Projeto Automação Web - Busca de Preços\n",
        "\n",
        "### Objetivo: Projeto em que tenho que usar automações web com Selenium para buscar as informações que desejo no site Buscapé e no Google Shopping\n",
        "\n",
        "### Como vai funcionar:\n",
        "\n",
        "- Imagina que você trabalha na área de compras de uma empresa e precisa fazer uma comparação de fornecedores para os seus insumos/produtos.\n",
        "\n",
        "- Nessa hora, você vai constantemente buscar nos sites desses fornecedores os produtos disponíveis e o preço, afinal, cada um deles pode fazer promoção em momentos diferentes e com valores diferentes.\n",
        "\n",
        "- Meu objetivo: Se o valor dos produtos for abaixo de um preço limite definido por mim, eu vou descobrir os produtos mais baratos e atualizar isso em uma planilha.\n",
        "- Em seguida, vou enviar um e-mail com a lista dos produtos abaixo do seu preço máximo de compra.\n",
        "\n",
        "- No meu caso, vou fazer com produtos comuns em sites como Google Shopping e Buscapé, mas a ideia seria a mesma para outros sites.\n",
        "\n",
        "### Outra opção:\n",
        "\n",
        "- Também poderia ter feito através de APIs porém o foco desse projeto é treinar minhas habilidades de Web-Scraping com Selenium.\n",
        "\n",
        "### O que tem disponível?\n",
        "\n",
        "- Planilha de Produtos, com os nomes dos produtos, o preço máximo, o preço mínimo (para evitar produtos \"errados\" ou \"baratos de mais para ser verdade\") e os termos que vamos querer evitar nas nossas buscas.\n",
        "\n",
        "### O que será feito:\n",
        "\n",
        "- Procurar cada produto no Google Shopping e pegar todos os resultados que tenham preço dentro da faixa e sejam os produtos corretos\n",
        "- O mesmo para o Buscapé\n",
        "- Criar uma pasta chamada 'Ofertas Encontradas' que possue um arquivo Excel de cada Produto com suas ofertas encontradas.\n",
        "- Enviar um e-mail para o seu e-mail (no caso da empresa seria para a área de compras por exemplo) com a notificação e a tabela com os itens e preços encontrados, junto com o link de compra. (Utilizei meu e-mail para testar. Caso queira testar, use um e-mail seu para fazer os testes e verificar a mensagem chegando)\n",
        "- Durante o envio do e-mail, teremos o Anexo de TODAS OFERTAS ENCONTRADAS de TODOS OS ITENS no arquivo 'Ofertas.xlsx', e também teremos o Anexo do arquivo Excel de CADA PRODUTO separadamente, em ordem crescente de preço.\n",
        "\n",
        "### Observações:\n",
        "\n",
        "- Bibliotecas usadas: Selenium, Pandas, Parthlib, win32com.client\n",
        "- Caso queira pesquisar mais produtos, basta adicionar no arquivo 'buscas.xlsx', e a automação continuará funcionando. No meu caso utilizei apenas 2 produtos.\n",
        "\n",
        "### Resultado obtido:\n",
        "![captura_1](captura1.jpg)\n",
        "![captura_2](captura2.PNG)"
      ]
    }
  ],
  "metadata": {
    "colab": {
      "provenance": []
    },
    "kernelspec": {
      "display_name": "Python 3",
      "language": "python",
      "name": "python3"
    },
    "language_info": {
      "codemirror_mode": {
        "name": "ipython",
        "version": 3
      },
      "file_extension": ".py",
      "mimetype": "text/x-python",
      "name": "python",
      "nbconvert_exporter": "python",
      "pygments_lexer": "ipython3",
      "version": "3.8.8"
    }
  },
  "nbformat": 4,
  "nbformat_minor": 0
}
